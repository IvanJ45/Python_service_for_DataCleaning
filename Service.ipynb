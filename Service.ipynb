{
 "cells": [
  {
   "cell_type": "code",
   "execution_count": 7,
   "id": "87a1e3f6-88d3-430e-ada7-3f106d9a038a",
   "metadata": {},
   "outputs": [],
   "source": [
    "from flask import Flask, render_template, request\n",
    "import pandas as pd\n",
    "import io\n",
    "app = Flask(__name__)"
   ]
  },
  {
   "cell_type": "code",
   "execution_count": 8,
   "id": "c8120544-16c8-42f9-a4de-3348182451b6",
   "metadata": {},
   "outputs": [],
   "source": [
    "@app.route('/', methods=['GET', 'POST'])\n",
    "def upload_file():\n",
    "    if request.method == 'POST':\n",
    "        # Get the uploaded file\n",
    "        uploaded_file = request.files['file']\n",
    "\n",
    "        if uploaded_file.filename != '':\n",
    "            # Read the CSV file data using pandas\n",
    "            data = pd.read_csv(uploaded_file)\n",
    "            \n",
    "           \n",
    "            data_html = data.to_html()\n",
    "            return render_template('index.html', table=data_html)\n",
    "            \n",
    "    return render_template('index.html', table='')\n"
   ]
  },
  {
   "cell_type": "code",
   "execution_count": null,
   "id": "20f90e70",
   "metadata": {},
   "outputs": [],
   "source": [
    "@app.route('/enrich', methods=['POST'])\n",
    "def enrich_data():\n",
    "    # Get all the uploaded files\n",
    "    files = request.files.getlist('files[]')\n",
    "\n",
    "    # Read the first file to start the merge process\n",
    "    merged_df = pd.read_csv(files[0])\n",
    "\n",
    "    # Iterate through the rest of the files and merge them\n",
    "    for file in files[1:]:\n",
    "        df = pd.read_csv(file)\n",
    "\n",
    "        # Find the shared columns between the current DataFrame and the merged DataFrame\n",
    "        shared_columns = [col for col in df.columns if col in merged_df.columns]\n",
    "\n",
    "        # Merge the DataFrames on the shared columns\n",
    "        merged_df = pd.merge(merged_df, df, on=shared_columns)\n",
    "\n",
    "    # Convert the enriched DataFrame to CSV and return it\n",
    "    response = jsonify(merged_df.to_csv(index=False))\n",
    "    response.headers[\"Content-Disposition\"] = \"attachment; filename=enriched_data.csv\"\n",
    "    response.headers[\"Content-Type\"] = \"text/csv\"\n",
    "\n",
    "    return response\n"
   ]
  },
  {
   "cell_type": "code",
   "execution_count": null,
   "id": "6f863cfb",
   "metadata": {},
   "outputs": [],
   "source": [
    "# add missing data finder\n",
    "# add missing data filling\n"
   ]
  },
  {
   "cell_type": "code",
   "execution_count": null,
   "id": "bef11c61",
   "metadata": {},
   "outputs": [],
   "source": [
    "@app.route('/filter_normalize', methods=['POST'])\n",
    "def filter_normalize_data():\n",
    "    data = request.json['data']\n",
    "    df = pd.DataFrame(data)\n",
    "    \n",
    "    # Perform filtering and normalization here\n",
    "    \n",
    "    return jsonify(df.to_dict(orient='records'))\n"
   ]
  },
  {
   "cell_type": "code",
   "execution_count": 9,
   "id": "9e034640-6c53-482a-aa74-f2591d4037fb",
   "metadata": {},
   "outputs": [
    {
     "name": "stdout",
     "output_type": "stream",
     "text": [
      " * Serving Flask app '__main__'\n",
      " * Debug mode: off\n"
     ]
    },
    {
     "name": "stderr",
     "output_type": "stream",
     "text": [
      "WARNING: This is a development server. Do not use it in a production deployment. Use a production WSGI server instead.\n",
      " * Running on all addresses (0.0.0.0)\n",
      " * Running on http://127.0.0.1:5000\n",
      " * Running on http://192.168.216.115:5000\n",
      "Press CTRL+C to quit\n",
      "127.0.0.1 - - [09/Aug/2023 14:40:39] \"GET / HTTP/1.1\" 200 -\n",
      "127.0.0.1 - - [09/Aug/2023 14:40:39] \"GET /favicon.ico HTTP/1.1\" 404 -\n"
     ]
    }
   ],
   "source": [
    "if __name__ == '__main__':\n",
    "    app.run(host='0.0.0.0', port=5000)"
   ]
  },
  {
   "cell_type": "code",
   "execution_count": null,
   "id": "6920974f-bd4d-4230-a725-82ee68824980",
   "metadata": {},
   "outputs": [],
   "source": []
  }
 ],
 "metadata": {
  "kernelspec": {
   "display_name": "Python 3 (ipykernel)",
   "language": "python",
   "name": "python3"
  },
  "language_info": {
   "codemirror_mode": {
    "name": "ipython",
    "version": 3
   },
   "file_extension": ".py",
   "mimetype": "text/x-python",
   "name": "python",
   "nbconvert_exporter": "python",
   "pygments_lexer": "ipython3",
   "version": "3.11.4"
  }
 },
 "nbformat": 4,
 "nbformat_minor": 5
}
