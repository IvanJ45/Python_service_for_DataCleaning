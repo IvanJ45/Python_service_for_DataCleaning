{
 "cells": [
  {
   "cell_type": "code",
   "execution_count": 1,
   "id": "87a1e3f6-88d3-430e-ada7-3f106d9a038a",
   "metadata": {},
   "outputs": [],
   "source": [
    "from flask import Flask, render_template, request\n",
    "import pandas as pd\n",
    "import io\n",
    "app = Flask(__name__)"
   ]
  },
  {
   "cell_type": "code",
   "execution_count": 2,
   "id": "c8120544-16c8-42f9-a4de-3348182451b6",
   "metadata": {},
   "outputs": [],
   "source": [
    "@app.route('/', methods=['GET', 'POST'])\n",
    "def upload_file():\n",
    "    if request.method == 'POST':\n",
    "        # Get the uploaded file\n",
    "        uploaded_file = request.files['file']\n",
    "\n",
    "        if uploaded_file.filename != '':\n",
    "            # Read the CSV file data using pandas\n",
    "            data = pd.read_csv(uploaded_file)\n",
    "            \n",
    "           \n",
    "            data_html = data.to_html()\n",
    "            return render_template('index.html', table=data_html)\n",
    "            \n",
    "    return render_template('index.html', table='')\n"
   ]
  },
  {
   "cell_type": "code",
   "execution_count": null,
   "id": "9e034640-6c53-482a-aa74-f2591d4037fb",
   "metadata": {},
   "outputs": [
    {
     "name": "stdout",
     "output_type": "stream",
     "text": [
      " * Serving Flask app '__main__' (lazy loading)\n",
      " * Environment: production\n",
      "\u001b[31m   WARNING: This is a development server. Do not use it in a production deployment.\u001b[0m\n",
      "\u001b[2m   Use a production WSGI server instead.\u001b[0m\n",
      " * Debug mode: off\n"
     ]
    },
    {
     "name": "stderr",
     "output_type": "stream",
     "text": [
      "WARNING: This is a development server. Do not use it in a production deployment. Use a production WSGI server instead.\n",
      " * Running on all addresses (0.0.0.0)\n",
      " * Running on http://127.0.0.1:5000\n",
      " * Running on http://10.0.2.15:5000\n",
      "Press CTRL+C to quit\n",
      "10.0.2.2 - - [09/Aug/2023 11:22:32] \"GET / HTTP/1.1\" 200 -\n",
      "10.0.2.2 - - [09/Aug/2023 11:24:26] \"POST / HTTP/1.1\" 200 -\n",
      "10.0.2.2 - - [09/Aug/2023 11:25:39] \"POST / HTTP/1.1\" 200 -\n"
     ]
    }
   ],
   "source": [
    "if __name__ == '__main__':\n",
    "    app.run(host='0.0.0.0', port=5000)"
   ]
  },
  {
   "cell_type": "code",
   "execution_count": null,
   "id": "6920974f-bd4d-4230-a725-82ee68824980",
   "metadata": {},
   "outputs": [],
   "source": []
  }
 ],
 "metadata": {
  "kernelspec": {
   "display_name": "Python 3 (ipykernel)",
   "language": "python",
   "name": "python3"
  },
  "language_info": {
   "codemirror_mode": {
    "name": "ipython",
    "version": 3
   },
   "file_extension": ".py",
   "mimetype": "text/x-python",
   "name": "python",
   "nbconvert_exporter": "python",
   "pygments_lexer": "ipython3",
   "version": "3.9.17"
  }
 },
 "nbformat": 4,
 "nbformat_minor": 5
}
