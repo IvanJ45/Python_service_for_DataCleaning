{
 "cells": [
  {
   "cell_type": "code",
   "execution_count": 12,
   "id": "87a1e3f6-88d3-430e-ada7-3f106d9a038a",
   "metadata": {},
   "outputs": [],
   "source": [
    "from flask import Flask, render_template, request, send_from_directory, redirect, url_for\n",
    "import os\n",
    "import pandas as pd\n",
    "import lxml\n",
    "from sklearn.preprocessing import MinMaxScaler, StandardScaler\n",
    "app = Flask(__name__)"
   ]
  },
  {
   "cell_type": "code",
   "execution_count": 13,
   "id": "c8120544-16c8-42f9-a4de-3348182451b6",
   "metadata": {},
   "outputs": [],
   "source": [
    "# Folder to store uploaded files\n",
    "UPLOAD_FOLDER = 'uploads'\n",
    "app.config['UPLOAD_FOLDER'] = UPLOAD_FOLDER\n",
    "\n",
    "uploaded_tables = {}  # Global dictionary to store uploaded tables\n",
    "\n",
    "@app.route('/', methods=['GET', 'POST'])\n",
    "def upload_files():\n",
    "    global uploaded_tables\n",
    "    \n",
    "    if request.method == 'POST':\n",
    "        files = request.files.getlist('file')\n",
    "\n",
    "        for file in files:\n",
    "            if file.filename != '':\n",
    "                file_path = os.path.join(app.config['UPLOAD_FOLDER'], file.filename)\n",
    "                file.save(file_path)\n",
    "                data = pd.read_csv(file_path)\n",
    "                uploaded_tables[file.filename] = data.to_html()\n",
    "    \n",
    "    return render_template('index.html', uploaded_files=uploaded_tables.keys())\n",
    "\n",
    "@app.route('/uploads/<filename>')\n",
    "def display_uploaded(filename):\n",
    "    table_html = uploaded_tables.get(filename, None)\n",
    "    if table_html is not None:\n",
    "        return render_template('uploaded.html', filename=filename, table=table_html)\n",
    "    else:\n",
    "        return \"File not found.\"\n"
   ]
  },
  {
   "cell_type": "code",
   "execution_count": 14,
   "id": "20f90e70",
   "metadata": {},
   "outputs": [],
   "source": [
    "@app.route('/uploads/<filename>', methods=['POST'])\n",
    "def apply_filter_or_normalization(filename):\n",
    "    table_html = uploaded_tables.get(filename, None)\n",
    "    if table_html is not None:\n",
    "        action = request.form.get('action')\n",
    "        data_html = uploaded_tables[filename]\n",
    "        data = pd.read_html(data_html, flavor='html5lib')[0]\n",
    "        data = data.iloc[:, 1:]  \n",
    "        if action == 'remove_duplicates':\n",
    "            data = remove_duplicates(data)\n",
    "        elif action == 'remove_missing_values':\n",
    "            data = remove_missing_values(data)\n",
    "        elif action == 'convert_boolean_to_binary':\n",
    "            data = convert_boolean_to_binary(data)\n",
    "        elif action == 'min_max_scaling':\n",
    "            data = min_max_scaling(data)\n",
    "        elif action == 'z_score_normalization':\n",
    "            data = z_score_normalization(data)\n",
    "        uploaded_tables[filename] = data.to_html()\n",
    "        return redirect(url_for('display_uploaded', filename=filename))\n",
    "    else:\n",
    "        return \"File not found.\"\n",
    "\n",
    "def convert_boolean_to_binary(df):\n",
    "    return df.applymap(lambda x: int(x) if isinstance(x, bool) else x)\n",
    "\n",
    "def remove_duplicates(df):\n",
    "    return df.drop_duplicates()\n",
    "\n",
    "def remove_missing_values(df):\n",
    "    return df.dropna()\n",
    "\n",
    "def min_max_scaling(df):\n",
    "    scaler = MinMaxScaler()\n",
    "    return pd.DataFrame(scaler.fit_transform(df), columns=df.columns)\n",
    "\n",
    "def z_score_normalization(df):\n",
    "    scaler = StandardScaler()\n",
    "    return pd.DataFrame(scaler.fit_transform(df), columns=df.columns)\n"
   ]
  },
  {
   "cell_type": "code",
   "execution_count": 15,
   "id": "6f863cfb",
   "metadata": {},
   "outputs": [],
   "source": [
    "# add missing data finder\n",
    "# add missing data filling\n"
   ]
  },
  {
   "cell_type": "code",
   "execution_count": null,
   "id": "bef11c61",
   "metadata": {},
   "outputs": [],
   "source": [
    "\n"
   ]
  },
  {
   "cell_type": "code",
   "execution_count": 16,
   "id": "9e034640-6c53-482a-aa74-f2591d4037fb",
   "metadata": {},
   "outputs": [
    {
     "name": "stdout",
     "output_type": "stream",
     "text": [
      " * Serving Flask app '__main__'\n",
      " * Debug mode: off\n"
     ]
    },
    {
     "name": "stderr",
     "output_type": "stream",
     "text": [
      "WARNING: This is a development server. Do not use it in a production deployment. Use a production WSGI server instead.\n",
      " * Running on all addresses (0.0.0.0)\n",
      " * Running on http://127.0.0.1:5000\n",
      " * Running on http://192.168.216.115:5000\n",
      "Press CTRL+C to quit\n",
      "127.0.0.1 - - [10/Aug/2023 13:45:45] \"GET /uploads/sample_submission.csv HTTP/1.1\" 200 -\n",
      "127.0.0.1 - - [10/Aug/2023 13:45:46] \"GET / HTTP/1.1\" 200 -\n",
      "127.0.0.1 - - [10/Aug/2023 13:45:50] \"POST / HTTP/1.1\" 200 -\n",
      "127.0.0.1 - - [10/Aug/2023 13:45:50] \"GET /static/styles.css HTTP/1.1\" 304 -\n",
      "127.0.0.1 - - [10/Aug/2023 13:45:51] \"GET /uploads/sample_submission.csv HTTP/1.1\" 200 -\n",
      "127.0.0.1 - - [10/Aug/2023 13:45:51] \"GET /static/styles.css HTTP/1.1\" 304 -\n",
      "[2023-08-10 13:45:55,355] ERROR in app: Exception on /uploads/sample_submission.csv [POST]\n",
      "Traceback (most recent call last):\n",
      "  File \"c:\\Python311\\Lib\\site-packages\\flask\\app.py\", line 2190, in wsgi_app\n",
      "    response = self.full_dispatch_request()\n",
      "               ^^^^^^^^^^^^^^^^^^^^^^^^^^^^\n",
      "  File \"c:\\Python311\\Lib\\site-packages\\flask\\app.py\", line 1486, in full_dispatch_request\n",
      "    rv = self.handle_user_exception(e)\n",
      "         ^^^^^^^^^^^^^^^^^^^^^^^^^^^^^\n",
      "  File \"c:\\Python311\\Lib\\site-packages\\flask\\app.py\", line 1484, in full_dispatch_request\n",
      "    rv = self.dispatch_request()\n",
      "         ^^^^^^^^^^^^^^^^^^^^^^^\n",
      "  File \"c:\\Python311\\Lib\\site-packages\\flask\\app.py\", line 1469, in dispatch_request\n",
      "    return self.ensure_sync(self.view_functions[rule.endpoint])(**view_args)\n",
      "           ^^^^^^^^^^^^^^^^^^^^^^^^^^^^^^^^^^^^^^^^^^^^^^^^^^^^^^^^^^^^^^^^^\n",
      "  File \"C:\\Users\\jovev\\AppData\\Local\\Temp\\ipykernel_8528\\1185101339.py\", line 20, in apply_filter_or_normalization\n",
      "    return redirect(url_for('display_uploaded', filename=filename))\n",
      "                    ^^^^^^^\n",
      "NameError: name 'url_for' is not defined\n",
      "127.0.0.1 - - [10/Aug/2023 13:45:55] \"POST /uploads/sample_submission.csv HTTP/1.1\" 500 -\n"
     ]
    }
   ],
   "source": [
    "if __name__ == '__main__':\n",
    "    app.run(host='0.0.0.0', port=5000)"
   ]
  }
 ],
 "metadata": {
  "kernelspec": {
   "display_name": "Python 3 (ipykernel)",
   "language": "python",
   "name": "python3"
  },
  "language_info": {
   "codemirror_mode": {
    "name": "ipython",
    "version": 3
   },
   "file_extension": ".py",
   "mimetype": "text/x-python",
   "name": "python",
   "nbconvert_exporter": "python",
   "pygments_lexer": "ipython3",
   "version": "3.11.4"
  }
 },
 "nbformat": 4,
 "nbformat_minor": 5
}
