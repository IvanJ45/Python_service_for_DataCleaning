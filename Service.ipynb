{
 "cells": [
  {
   "cell_type": "code",
   "execution_count": 105,
   "id": "87a1e3f6-88d3-430e-ada7-3f106d9a038a",
   "metadata": {},
   "outputs": [],
   "source": [
    "from flask import Flask, render_template, request, send_from_directory, redirect, url_for, flash\n",
    "import os\n",
    "import pandas as pd\n",
    "import lxml\n",
    "from sklearn.preprocessing import MinMaxScaler, StandardScaler\n",
    "import cx_Oracle\n",
    "app = Flask(__name__)\n",
    "app.secret_key = 'your_secret_key_here'\n"
   ]
  },
  {
   "cell_type": "markdown",
   "id": "bba30d8a",
   "metadata": {},
   "source": [
    "Conncting to oracle Database\n"
   ]
  },
  {
   "cell_type": "code",
   "execution_count": 106,
   "id": "e631d337",
   "metadata": {},
   "outputs": [],
   "source": [
    "##dsn_tns = cx_Oracle.makedsn('pc0308', '1521', service_name='XE')\n",
    "##conn = cx_Oracle.connect(user='ivan', password='password', dsn=dsn_tns)"
   ]
  },
  {
   "cell_type": "code",
   "execution_count": 107,
   "id": "c8120544-16c8-42f9-a4de-3348182451b6",
   "metadata": {},
   "outputs": [],
   "source": [
    "UPLOAD_FOLDER = 'uploads'\n",
    "app.config['UPLOAD_FOLDER'] = UPLOAD_FOLDER\n",
    "\n",
    "uploaded_tables = {}  # Global dictionary to store uploaded tables\n",
    "\n",
    "@app.route('/', methods=['GET', 'POST'])\n",
    "def upload_files():\n",
    "    global uploaded_tables\n",
    "    \n",
    "    if request.method == 'POST':\n",
    "        files = request.files.getlist('file')\n",
    "\n",
    "        for file in files:\n",
    "            if file.filename != '':\n",
    "                file_path = os.path.join(app.config['UPLOAD_FOLDER'], file.filename)\n",
    "                file.save(file_path)\n",
    "                data = pd.read_csv(file_path)\n",
    "                uploaded_tables[file.filename] = data.to_html(index=False)  # Modified line\n",
    "    \n",
    "    return render_template('index.html', uploaded_files=uploaded_tables.keys())\n",
    "\n",
    "\n",
    "\n",
    "@app.route('/uploads/<filename>')\n",
    "def display_uploaded(filename):\n",
    "    table_html = uploaded_tables.get(filename, None)\n",
    "    if table_html is not None:\n",
    "        # Get DataFrame from the global dictionary\n",
    "        df = pd.read_html(table_html, header=0)[0]\n",
    "        \n",
    "        # Get the columns of the DataFrame and filter out \"Unnamed\" columns\n",
    "        column_options = [col for col in df.columns if not col.startswith(\"Unnamed\")]\n",
    "        \n",
    "        return render_template('uploaded.html', filename=filename, table=table_html, column_options=column_options)\n",
    "    else:\n",
    "        return \"File not found.\"\n",
    "\n",
    "\n"
   ]
  },
  {
   "cell_type": "code",
   "execution_count": 108,
   "id": "641ff72e",
   "metadata": {},
   "outputs": [],
   "source": [
    "@app.route('/all_tables')\n",
    "def all_tables():\n",
    "    return render_template('all_tables.html', uploaded_tables=uploaded_tables)\n"
   ]
  },
  {
   "cell_type": "markdown",
   "id": "baaa2ca4",
   "metadata": {},
   "source": [
    "Merging"
   ]
  },
  {
   "cell_type": "code",
   "execution_count": 109,
   "id": "3730aaf5",
   "metadata": {},
   "outputs": [],
   "source": [
    "@app.route('/uploads/<filename>/merge', methods=['POST'])\n",
    "def merge_tables(filename):\n",
    "    table_to_merge = request.form.get('table_to_merge')\n",
    "    attribute = request.form.get('attribute')\n",
    "    \n",
    "    if table_to_merge and attribute:\n",
    "        df1 = pd.read_html(uploaded_tables[filename], header=0)[0]\n",
    "        df2 = pd.read_html(uploaded_tables[table_to_merge], header=0)[0]\n",
    "        \n",
    "        merged_df = pd.merge(df1, df2, on=attribute, how='outer')\n",
    "        uploaded_tables[filename] = merged_df.to_html(index=False)\n",
    "        flash(f\"Tables merged on '{attribute}'\", 'success')\n",
    "    else:\n",
    "        flash(\"Please select a table and attribute to merge.\", 'error')\n",
    "    \n",
    "    return redirect(url_for('display_uploaded', filename=filename))\n"
   ]
  },
  {
   "cell_type": "markdown",
   "id": "537f97c2",
   "metadata": {},
   "source": [
    "Option to remove unwanted columns"
   ]
  },
  {
   "cell_type": "code",
   "execution_count": 110,
   "id": "73ff479a",
   "metadata": {},
   "outputs": [],
   "source": [
    "@app.route('/uploads/<filename>/remove_column', methods=['POST'])\n",
    "def remove_column(filename):\n",
    "    selected_column = request.form.get('selected_column')\n",
    "    \n",
    "    table_html = uploaded_tables.get(filename, None)\n",
    "    if table_html:\n",
    "        df = pd.read_html(table_html, header=0)[0]\n",
    "    else:\n",
    "        flash(\"Error accessing the DataFrame.\", 'error')\n",
    "        return redirect(url_for('display_uploaded', filename=filename))\n",
    "\n",
    "    if selected_column:\n",
    "        try:\n",
    "            df.drop(columns=[selected_column], inplace=True)\n",
    "            uploaded_tables[filename] = df.to_html()  # Update the global dictionary with the modified DataFrame\n",
    "            flash(f\"Column '{selected_column}' has been removed from the DataFrame.\", 'success')\n",
    "        except KeyError:\n",
    "            flash(f\"Column '{selected_column}' not found in the DataFrame.\", 'error')\n",
    "    else:\n",
    "        flash(\"Please select a column to remove.\", 'error')\n",
    "\n",
    "    return redirect(url_for('display_uploaded', filename=filename))\n"
   ]
  },
  {
   "cell_type": "markdown",
   "id": "505cc818",
   "metadata": {},
   "source": [
    "Fucntions to preform on a dataset"
   ]
  },
  {
   "cell_type": "code",
   "execution_count": 111,
   "id": "20f90e70",
   "metadata": {},
   "outputs": [],
   "source": [
    "@app.route('/uploads/<filename>', methods=['POST'])\n",
    "def apply_action(filename):\n",
    "    table_html = uploaded_tables.get(filename, None)\n",
    "    if table_html is not None:\n",
    "        action = request.form.get('action')\n",
    "        data_html = uploaded_tables[filename]\n",
    "        data = pd.read_html(data_html, flavor='html5lib')[0]\n",
    "        if action == 'remove_duplicates':\n",
    "            data = remove_duplicates(data)\n",
    "        elif action == 'remove_missing_values':\n",
    "            data = remove_missing_values(data)\n",
    "        elif action == 'convert_boolean_to_binary':\n",
    "            data = convert_boolean_to_binary(data)\n",
    "        elif action == 'min_max_scaling':\n",
    "            data = min_max_scaling(data)\n",
    "        elif action == 'z_score_normalization':\n",
    "            data = z_score_normalization(data)\n",
    "        uploaded_tables[filename] = data.to_html(index=False)\n",
    "        return redirect(url_for('display_uploaded', filename=filename))\n",
    "    else:\n",
    "        return \"File not found.\"\n",
    "\n",
    "def convert_boolean_to_binary(df):\n",
    "    return df.applymap(lambda x: int(x) if isinstance(x, bool) else x)\n",
    "\n",
    "def remove_duplicates(df):\n",
    "    return df.drop_duplicates()\n",
    "\n",
    "def remove_missing_values(df):\n",
    "    return df.dropna()\n",
    "\n",
    "def min_max_scaling(df):\n",
    "    scaler = MinMaxScaler()\n",
    "    return pd.DataFrame(scaler.fit_transform(df), columns=df.columns)\n",
    "\n",
    "def z_score_normalization(df):\n",
    "    scaler = StandardScaler()\n",
    "    return pd.DataFrame(scaler.fit_transform(df), columns=df.columns)\n"
   ]
  },
  {
   "cell_type": "code",
   "execution_count": 112,
   "id": "6f863cfb",
   "metadata": {},
   "outputs": [],
   "source": [
    "# add missing data finder\n",
    "# add missing data filling\n"
   ]
  },
  {
   "cell_type": "code",
   "execution_count": 113,
   "id": "9e034640-6c53-482a-aa74-f2591d4037fb",
   "metadata": {},
   "outputs": [
    {
     "name": "stdout",
     "output_type": "stream",
     "text": [
      " * Serving Flask app '__main__'\n",
      " * Debug mode: off\n"
     ]
    },
    {
     "name": "stderr",
     "output_type": "stream",
     "text": [
      "WARNING: This is a development server. Do not use it in a production deployment. Use a production WSGI server instead.\n",
      " * Running on all addresses (0.0.0.0)\n",
      " * Running on http://127.0.0.1:5000\n",
      " * Running on http://192.168.216.115:5000\n",
      "Press CTRL+C to quit\n",
      "127.0.0.1 - - [21/Aug/2023 14:45:43] \"GET / HTTP/1.1\" 200 -\n",
      "127.0.0.1 - - [21/Aug/2023 14:45:43] \"GET /static/styles.css HTTP/1.1\" 304 -\n",
      "127.0.0.1 - - [21/Aug/2023 14:45:47] \"POST / HTTP/1.1\" 200 -\n",
      "127.0.0.1 - - [21/Aug/2023 14:45:47] \"GET /static/styles.css HTTP/1.1\" 304 -\n",
      "127.0.0.1 - - [21/Aug/2023 14:45:48] \"GET /uploads/sample_submission.csv HTTP/1.1\" 200 -\n",
      "127.0.0.1 - - [21/Aug/2023 14:45:48] \"GET /static/styles.css HTTP/1.1\" 304 -\n",
      "127.0.0.1 - - [21/Aug/2023 14:45:49] \"POST /uploads/sample_submission.csv HTTP/1.1\" 302 -\n",
      "127.0.0.1 - - [21/Aug/2023 14:45:49] \"GET /uploads/sample_submission.csv HTTP/1.1\" 200 -\n",
      "127.0.0.1 - - [21/Aug/2023 14:45:49] \"GET /static/styles.css HTTP/1.1\" 304 -\n",
      "127.0.0.1 - - [21/Aug/2023 14:45:57] \"POST /uploads/sample_submission.csv HTTP/1.1\" 302 -\n",
      "127.0.0.1 - - [21/Aug/2023 14:45:57] \"GET /uploads/sample_submission.csv HTTP/1.1\" 200 -\n",
      "127.0.0.1 - - [21/Aug/2023 14:45:57] \"GET /static/styles.css HTTP/1.1\" 304 -\n",
      "127.0.0.1 - - [21/Aug/2023 14:45:58] \"POST /uploads/sample_submission.csv HTTP/1.1\" 302 -\n",
      "127.0.0.1 - - [21/Aug/2023 14:45:58] \"GET /uploads/sample_submission.csv HTTP/1.1\" 200 -\n",
      "127.0.0.1 - - [21/Aug/2023 14:45:58] \"GET /static/styles.css HTTP/1.1\" 304 -\n",
      "127.0.0.1 - - [21/Aug/2023 14:46:02] \"POST /uploads/sample_submission.csv HTTP/1.1\" 302 -\n",
      "127.0.0.1 - - [21/Aug/2023 14:46:02] \"GET /uploads/sample_submission.csv HTTP/1.1\" 200 -\n",
      "127.0.0.1 - - [21/Aug/2023 14:46:02] \"GET /static/styles.css HTTP/1.1\" 304 -\n",
      "127.0.0.1 - - [21/Aug/2023 14:46:11] \"POST / HTTP/1.1\" 200 -\n",
      "127.0.0.1 - - [21/Aug/2023 14:46:11] \"GET /static/styles.css HTTP/1.1\" 304 -\n",
      "127.0.0.1 - - [21/Aug/2023 14:46:12] \"GET /uploads/sample_submission.csv HTTP/1.1\" 200 -\n",
      "127.0.0.1 - - [21/Aug/2023 14:46:12] \"GET /static/styles.css HTTP/1.1\" 304 -\n",
      "127.0.0.1 - - [21/Aug/2023 14:46:14] \"POST /uploads/sample_submission.csv HTTP/1.1\" 302 -\n",
      "127.0.0.1 - - [21/Aug/2023 14:46:14] \"GET /uploads/sample_submission.csv HTTP/1.1\" 200 -\n",
      "127.0.0.1 - - [21/Aug/2023 14:46:14] \"GET /static/styles.css HTTP/1.1\" 304 -\n",
      "127.0.0.1 - - [21/Aug/2023 14:46:15] \"POST /uploads/sample_submission.csv HTTP/1.1\" 302 -\n",
      "127.0.0.1 - - [21/Aug/2023 14:46:15] \"GET /uploads/sample_submission.csv HTTP/1.1\" 200 -\n",
      "127.0.0.1 - - [21/Aug/2023 14:46:16] \"GET /static/styles.css HTTP/1.1\" 304 -\n",
      "127.0.0.1 - - [21/Aug/2023 14:46:17] \"POST /uploads/sample_submission.csv HTTP/1.1\" 302 -\n",
      "127.0.0.1 - - [21/Aug/2023 14:46:17] \"GET /uploads/sample_submission.csv HTTP/1.1\" 200 -\n",
      "127.0.0.1 - - [21/Aug/2023 14:46:17] \"GET /static/styles.css HTTP/1.1\" 304 -\n",
      "127.0.0.1 - - [21/Aug/2023 14:46:17] \"POST /uploads/sample_submission.csv HTTP/1.1\" 302 -\n",
      "127.0.0.1 - - [21/Aug/2023 14:46:17] \"GET /uploads/sample_submission.csv HTTP/1.1\" 200 -\n",
      "127.0.0.1 - - [21/Aug/2023 14:46:17] \"GET /static/styles.css HTTP/1.1\" 304 -\n",
      "127.0.0.1 - - [21/Aug/2023 14:46:19] \"POST /uploads/sample_submission.csv HTTP/1.1\" 302 -\n",
      "127.0.0.1 - - [21/Aug/2023 14:46:19] \"GET /uploads/sample_submission.csv HTTP/1.1\" 200 -\n",
      "127.0.0.1 - - [21/Aug/2023 14:46:19] \"GET /static/styles.css HTTP/1.1\" 304 -\n",
      "127.0.0.1 - - [21/Aug/2023 14:46:19] \"POST /uploads/sample_submission.csv HTTP/1.1\" 302 -\n",
      "127.0.0.1 - - [21/Aug/2023 14:46:19] \"GET /uploads/sample_submission.csv HTTP/1.1\" 200 -\n",
      "127.0.0.1 - - [21/Aug/2023 14:46:19] \"GET /static/styles.css HTTP/1.1\" 304 -\n",
      "127.0.0.1 - - [21/Aug/2023 14:46:22] \"POST /uploads/sample_submission.csv HTTP/1.1\" 302 -\n",
      "127.0.0.1 - - [21/Aug/2023 14:46:22] \"GET /uploads/sample_submission.csv HTTP/1.1\" 200 -\n",
      "127.0.0.1 - - [21/Aug/2023 14:46:22] \"GET /static/styles.css HTTP/1.1\" 304 -\n",
      "127.0.0.1 - - [21/Aug/2023 14:46:25] \"POST /uploads/sample_submission.csv HTTP/1.1\" 302 -\n",
      "127.0.0.1 - - [21/Aug/2023 14:46:25] \"GET /uploads/sample_submission.csv HTTP/1.1\" 200 -\n",
      "127.0.0.1 - - [21/Aug/2023 14:46:25] \"GET /static/styles.css HTTP/1.1\" 304 -\n",
      "127.0.0.1 - - [21/Aug/2023 14:46:31] \"POST /uploads/sample_submission.csv/remove_column HTTP/1.1\" 302 -\n",
      "127.0.0.1 - - [21/Aug/2023 14:46:31] \"GET /uploads/sample_submission.csv HTTP/1.1\" 200 -\n",
      "127.0.0.1 - - [21/Aug/2023 14:46:31] \"GET /static/styles.css HTTP/1.1\" 304 -\n",
      "127.0.0.1 - - [21/Aug/2023 14:46:35] \"POST /uploads/sample_submission.csv/remove_column HTTP/1.1\" 302 -\n",
      "127.0.0.1 - - [21/Aug/2023 14:46:35] \"GET /uploads/sample_submission.csv HTTP/1.1\" 200 -\n",
      "127.0.0.1 - - [21/Aug/2023 14:46:35] \"GET /static/styles.css HTTP/1.1\" 304 -\n"
     ]
    }
   ],
   "source": [
    "if __name__ == '__main__':\n",
    "    app.run(host='0.0.0.0', port=5000)"
   ]
  }
 ],
 "metadata": {
  "kernelspec": {
   "display_name": "Python 3 (ipykernel)",
   "language": "python",
   "name": "python3"
  },
  "language_info": {
   "codemirror_mode": {
    "name": "ipython",
    "version": 3
   },
   "file_extension": ".py",
   "mimetype": "text/x-python",
   "name": "python",
   "nbconvert_exporter": "python",
   "pygments_lexer": "ipython3",
   "version": "3.11.4"
  }
 },
 "nbformat": 4,
 "nbformat_minor": 5
}
