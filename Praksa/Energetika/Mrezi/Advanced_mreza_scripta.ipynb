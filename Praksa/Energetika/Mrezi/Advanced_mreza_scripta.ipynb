{
 "cells": [
  {
   "cell_type": "code",
   "execution_count": null,
   "metadata": {},
   "outputs": [],
   "source": [
    "import pandapower as pp\n",
    "import pandas as pd\n"
   ]
  },
  {
   "cell_type": "code",
   "execution_count": null,
   "metadata": {},
   "outputs": [],
   "source": [
    "net = pp.create_empty_network()"
   ]
  },
  {
   "cell_type": "markdown",
   "metadata": {},
   "source": [
    "Creating buses"
   ]
  },
  {
   "cell_type": "code",
   "execution_count": null,
   "metadata": {},
   "outputs": [],
   "source": [
    "pp.create_bus(net, name='Double Busbar 1', vn_kv=380, type='b')\n",
    "pp.create_bus(net, name='Double Busbar 2', vn_kv=380, type='b')\n",
    "for i in range(10):\n",
    "    pp.create_bus(net, name='Bus DB T%s' % i, vn_kv=380, type='n')\n",
    "for i in range(1, 5):\n",
    "    pp.create_bus(net, name='Bus DB %s' % i, vn_kv=380, type='n')\n",
    "\n",
    "pp.create_bus(net, name='Single Busbar', vn_kv=110, type='b')\n",
    "for i in range(1, 6):\n",
    "    pp.create_bus(net, name='Bus SB %s' % i, vn_kv=110, type='n')\n",
    "for i in range(1, 6):\n",
    "    for j in [1, 2]:\n",
    "        pp.create_bus(net, name='Bus SB T%s.%s' % (i, j), vn_kv=110, type='n')\n",
    "\n",
    "for i in range(1, 5):\n",
    "    pp.create_bus(net, name='Bus HV%s' % i, vn_kv=110, type='n')\n",
    "\n",
    "\n",
    "net.bus"
   ]
  },
  {
   "cell_type": "markdown",
   "metadata": {},
   "source": [
    "Creating HV Lines"
   ]
  },
  {
   "cell_type": "code",
   "execution_count": null,
   "metadata": {},
   "outputs": [],
   "source": [
    "hv_lines = pd.read_csv('example_advanced/hv_lines.csv', sep=';', header=0, decimal=',')\n",
    "hv_lines"
   ]
  },
  {
   "cell_type": "code",
   "execution_count": null,
   "metadata": {},
   "outputs": [],
   "source": [
    "for _, hv_line in hv_lines.iterrows():\n",
    "        from_bus = pp.get_element_index(net, \"bus\", hv_line.from_bus)\n",
    "        to_bus = pp.get_element_index(net, \"bus\", hv_line.to_bus)\n",
    "        pp.create_line(net, from_bus, to_bus, length_km=hv_line.length,std_type=hv_line.std_type, name=hv_line.line_name, parallel=hv_line.parallel)\n",
    "\n",
    "\n",
    "net.line"
   ]
  },
  {
   "cell_type": "markdown",
   "metadata": {},
   "source": [
    "Creating Transformer"
   ]
  },
  {
   "cell_type": "code",
   "execution_count": null,
   "metadata": {},
   "outputs": [],
   "source": [
    "hv_bus = pp.get_element_index(net, \"bus\", \"Bus DB 2\")\n",
    "lv_bus = pp.get_element_index(net, \"bus\", \"Bus SB 1\")\n",
    "pp.create_transformer_from_parameters(net, hv_bus, lv_bus, sn_mva=300, vn_hv_kv=380, vn_lv_kv=110, vkr_percent=0.06,\n",
    "                                      vk_percent=8, pfe_kw=0, i0_percent=0, tp_pos=0, shift_degree=0, name='EHV-HV-Trafo')\n",
    "\n",
    "net.trafo "
   ]
  },
  {
   "cell_type": "code",
   "execution_count": null,
   "metadata": {},
   "outputs": [],
   "source": [
    "\n",
    "hv_bus_sw = pd.read_csv('example_advanced/hv_bus_sw.csv', sep=';', header=0, decimal=',')\n",
    "hv_bus_sw"
   ]
  },
  {
   "cell_type": "markdown",
   "metadata": {},
   "source": [
    "Creating switches"
   ]
  },
  {
   "cell_type": "code",
   "execution_count": null,
   "metadata": {},
   "outputs": [],
   "source": [
    "for _, switch in hv_bus_sw.iterrows():\n",
    "    from_bus = pp.get_element_index(net, \"bus\", switch.from_bus)\n",
    "    to_bus = pp.get_element_index(net, \"bus\", switch.to_bus)\n",
    "    pp.create_switch(net, from_bus, to_bus, et=switch.et, closed=switch.closed, type=switch.type, name=switch.bus_name)\n",
    "\n",
    "hv_buses = net.bus[(net.bus.vn_kv == 380) | (net.bus.vn_kv == 110)].index\n",
    "hv_ls = net.line[(net.line.from_bus.isin(hv_buses)) & (net.line.to_bus.isin(hv_buses))]\n",
    "for _, line in hv_ls.iterrows():\n",
    "        pp.create_switch(net, line.from_bus, line.name, et='l', closed=True, type='LBS', name='Switch %s - %s' % (net.bus.name.at[line.from_bus], line['name']))\n",
    "        pp.create_switch(net, line.to_bus, line.name, et='l', closed=True, type='LBS', name='Switch %s - %s' % (net.bus.name.at[line.to_bus], line['name']))\n",
    "\n",
    "pp.create_switch(net, pp.get_element_index(net, \"bus\", 'Bus DB 2'), pp.get_element_index(net, \"trafo\", 'EHV-HV-Trafo'), et='t', closed=True, type='LBS', name='Switch DB2 - EHV-HV-Trafo')\n",
    "pp.create_switch(net, pp.get_element_index(net, \"bus\", 'Bus SB 1'), pp.get_element_index(net, \"trafo\", 'EHV-HV-Trafo'), et='t', closed=True, type='LBS', name='Switch SB1 - EHV-HV-Trafo')\n",
    "\n",
    "\n",
    "net.switch"
   ]
  },
  {
   "cell_type": "markdown",
   "metadata": {},
   "source": [
    "Loads"
   ]
  },
  {
   "cell_type": "code",
   "execution_count": null,
   "metadata": {},
   "outputs": [],
   "source": [
    "hv_loads = pd.read_csv('example_advanced/hv_loads.csv', sep=';', header=0, decimal=',')\n",
    "hv_loads"
   ]
  },
  {
   "cell_type": "code",
   "execution_count": null,
   "metadata": {},
   "outputs": [],
   "source": [
    "for _, load in hv_loads.iterrows():\n",
    "    bus_idx = pp.get_element_index(net, \"bus\", load.bus)\n",
    "    pp.create_load(net, bus_idx, p_mw=load.p, q_mvar=load.q, name=load.load_name)\n",
    "    \n",
    "net.load"
   ]
  },
  {
   "cell_type": "code",
   "execution_count": null,
   "metadata": {},
   "outputs": [],
   "source": [
    "pp.create_gen(net, pp.get_element_index(net, \"bus\", 'Bus HV4'), vm_pu=1.03, p_mw=100, name='Gas turbine')\n",
    "\n",
    "net.gen"
   ]
  },
  {
   "cell_type": "markdown",
   "metadata": {},
   "source": [
    "Generators and shunt"
   ]
  },
  {
   "cell_type": "code",
   "execution_count": null,
   "metadata": {},
   "outputs": [],
   "source": [
    "pp.create_sgen(net, pp.get_element_index(net, \"bus\", 'Bus SB 5'), p_mw=20, q_mvar=4, sn_mva=45, \n",
    "               type='WP', name='Wind Park')\n",
    "pp.create_shunt(net, pp.get_element_index(net, \"bus\", 'Bus HV1'), p_mw=0, q_mvar=0.960, name='Shunt')"
   ]
  }
 ],
 "metadata": {
  "language_info": {
   "name": "python"
  }
 },
 "nbformat": 4,
 "nbformat_minor": 2
}
